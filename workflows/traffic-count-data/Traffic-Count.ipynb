{
 "cells": [
  {
   "cell_type": "markdown",
   "metadata": {},
   "source": [
    "# Aggregating Daily Traffic Volume for the City of Chicago\n",
    "Here, we will be importing traffic volume data for Chicago and aggregating it by Community Area"
   ]
  },
  {
   "cell_type": "markdown",
   "metadata": {},
   "source": [
    "## Importing the necessary packages"
   ]
  },
  {
   "cell_type": "code",
   "execution_count": null,
   "metadata": {},
   "outputs": [
    {
     "name": "stderr",
     "output_type": "stream",
     "text": [
      "rgdal: version: 1.2-16, (SVN revision 701)\n",
      " Geospatial Data Abstraction Library extensions to R successfully loaded\n",
      " Loaded GDAL runtime: GDAL 2.1.3, released 2017/20/01\n",
      " Path to GDAL shared files: /Library/Frameworks/R.framework/Versions/3.4/Resources/library/rgdal/gdal\n",
      " GDAL binary built with GEOS: FALSE \n",
      " Loaded PROJ.4 runtime: Rel. 4.9.3, 15 August 2016, [PJ_VERSION: 493]\n",
      " Path to PROJ.4 shared files: /Library/Frameworks/R.framework/Versions/3.4/Resources/library/rgdal/proj\n",
      " Linking to sp version: 1.2-5 \n",
      "rgeos version: 0.3-26, (SVN revision 560)\n",
      " GEOS runtime version: 3.6.1-CAPI-1.10.1 r0 \n",
      " Linking to sp version: 1.2-5 \n",
      " Polygon checking: TRUE \n",
      "\n",
      "Warning message:\n",
      "“package ‘leaflet’ was built under R version 3.4.4”Warning message:\n",
      "“package ‘tmap’ was built under R version 3.4.4”"
     ]
    }
   ],
   "source": [
    "library(sp)\n",
    "library(rgdal)\n",
    "library(rgeos)\n",
    "library(DataCombine)\n",
    "library(leaflet)\n",
    "library(tmap)\n",
    "library(dplyr)"
   ]
  },
  {
   "cell_type": "markdown",
   "metadata": {},
   "source": [
    "## Importing the Traffic Data\n",
    "\n",
    "The City of Chicago Open Data Portal provides information on Average Daily Traffic Counts, a \"close approximation to the actual number of vehicles passing through a given location on an average weekday\". The counts are done approximately once every ten years, but the most recent count was conducted in 2006. This count consists of point data for 1279 unique locations. The data is available for viewing and download [here](https://data.cityofchicago.org/Transportation/Average-Daily-Traffic-Counts/pfsx-4n4m/data). For the purposes of this data collection, we will download the Average Daily Traffic Count data was downloaded as a CSV (Average_Daily_Traffic_Counts.csv). "
   ]
  },
  {
   "cell_type": "code",
   "execution_count": null,
   "metadata": {},
   "outputs": [],
   "source": [
    "Traffic <- read.csv(\"Average_Daily_Traffic_Counts.csv\")\n",
    "\n",
    "head(Traffic)"
   ]
  },
  {
   "cell_type": "markdown",
   "metadata": {},
   "source": [
    "As we can see, the traffic count dataset contains information on Address, Date, Total Volume, Directional Volume, and Coordinates"
   ]
  },
  {
   "cell_type": "markdown",
   "metadata": {},
   "source": [
    "## Converting the Traffic Data to a Spatial Object"
   ]
  },
  {
   "cell_type": "code",
   "execution_count": null,
   "metadata": {},
   "outputs": [],
   "source": [
    "#Create a spatial object by assigning Lat/Lon coordinates to Traffic \n",
    "coordinates(Traffic) <- Traffic[,c(\"Longitude\", \"Latitude\")]"
   ]
  },
  {
   "cell_type": "code",
   "execution_count": null,
   "metadata": {},
   "outputs": [],
   "source": [
    "#Set CRS of Traffic data to WSG84\n",
    "proj4string(Traffic) <- CRS(\"+init=epsg:4326\")"
   ]
  },
  {
   "cell_type": "markdown",
   "metadata": {},
   "source": [
    "## Importing the Chicago Map with Community Area Boundaries Shapefile"
   ]
  },
  {
   "cell_type": "markdown",
   "metadata": {},
   "source": [
    "The Chicago Open Data Portal provides a map of the current boundaries for each of the 77 Community Areas in city. This map can be downloaded [here](https://data.cityofchicago.org/Facilities-Geographic-Boundaries/Boundaries-Community-Areas-current-/cauq-8yn6/data) as a Shapefile (Chi_Boundaries.shp) which we will subsequently import."
   ]
  },
  {
   "cell_type": "code",
   "execution_count": null,
   "metadata": {},
   "outputs": [],
   "source": [
    "Chi.Map <- readOGR(\"Chi_Boundaries\")"
   ]
  },
  {
   "cell_type": "code",
   "execution_count": null,
   "metadata": {},
   "outputs": [],
   "source": [
    "#Transform projection of Chicago Map to WSG84 to match Traffic data\n",
    "Chi.Map <- spTransform(Chi.Map ,CRS(\"+init=epsg:4326\"))"
   ]
  },
  {
   "cell_type": "markdown",
   "metadata": {},
   "source": [
    "## Spatially Overlaying Traffic Point Data on Community Area Polygons"
   ]
  },
  {
   "cell_type": "markdown",
   "metadata": {},
   "source": [
    "In order to determine which Community Area (CA) each traffic node is in, we will overlay the point data on the map of the Chicago Community Areas "
   ]
  },
  {
   "cell_type": "code",
   "execution_count": null,
   "metadata": {},
   "outputs": [],
   "source": [
    "#Returns a vector with length = # of Traffic points and community column with information on Community Area\n",
    "PiP <- over(Traffic, Chi.Map)"
   ]
  },
  {
   "cell_type": "code",
   "execution_count": null,
   "metadata": {},
   "outputs": [],
   "source": [
    "#Create new dataframe with the variables that we will need (Lat/Lon, Volume, Community Area)\n",
    "CA.Traffic <- data.frame(PiP$community, Traffic$Latitude, Traffic$Longitude, Traffic$Total.Passing.Vehicle.Volume)\n",
    "#Rename columns for readability\n",
    "colnames(CA.Traffic) <- c(\"Community_Area\", \"Latitude\", \"Longitude\", \"Traffic_Volume\")\n"
   ]
  },
  {
   "cell_type": "markdown",
   "metadata": {},
   "source": [
    "## Filling in Missing Information"
   ]
  },
  {
   "cell_type": "markdown",
   "metadata": {},
   "source": [
    "We must first determine whether or not there are any elements of CA.Traffic for which the Community_Area variable is NA"
   ]
  },
  {
   "cell_type": "code",
   "execution_count": null,
   "metadata": {},
   "outputs": [],
   "source": [
    "summary(CA.Traffic)"
   ]
  },
  {
   "cell_type": "code",
   "execution_count": null,
   "metadata": {},
   "outputs": [],
   "source": [
    "#Create dataframe of all elements with NA values for Community Area\n",
    "CA.NA <- CA.Traffic[which(is.na(CA.Traffic$Community_Area)),]"
   ]
  },
  {
   "cell_type": "code",
   "execution_count": null,
   "metadata": {},
   "outputs": [],
   "source": [
    "summary(CA.NA)"
   ]
  },
  {
   "cell_type": "markdown",
   "metadata": {},
   "source": [
    "From the summary, we see that there are 13 traffic nodes for which the match function was unable to assign a Community Area. These nodes are located just over the edge of the Community Area map and should, therefore, be included with the totals for the nearest community area. We must first create a spatial object from the NA dataframe."
   ]
  },
  {
   "cell_type": "code",
   "execution_count": null,
   "metadata": {},
   "outputs": [],
   "source": [
    "#Assign coordinates and projection to NAs\n",
    "coordinates(CA.NA) <- CA.NA[,c(\"Longitude\", \"Latitude\")]\n",
    "proj4string(CA.NA) <- CRS(\"+init=epsg:4326\")"
   ]
  },
  {
   "cell_type": "markdown",
   "metadata": {},
   "source": [
    "We need to now change the projection system of both the NAs and the Chicago base map to UTM so that we can properly use the rgeos function gDistance to determine the closest Community Area to a given point"
   ]
  },
  {
   "cell_type": "code",
   "execution_count": null,
   "metadata": {},
   "outputs": [],
   "source": [
    "#Change projections for both NAs and Community Area Map to UTM Zone 16\n",
    "CA.NA <- spTransform(CA.NA,CRS(\"+init=epsbg:26916\"))\n",
    "Chi.Map <- spTransform(Chi.Map ,CRS(\"+init=epsg:26916\"))"
   ]
  },
  {
   "cell_type": "markdown",
   "metadata": {},
   "source": [
    "We will now loop through the NAs and find the minimum value for gDistance between the point and a Community Area."
   ]
  },
  {
   "cell_type": "code",
   "execution_count": null,
   "metadata": {},
   "outputs": [],
   "source": [
    "#Container for Nearest Community Areas\n",
    "n <- length(CA.NA)\n",
    "Nearest.CA <- character(n)\n",
    "\n",
    "#Iterate through finding the nearest Community Area for each NA\n",
    "for (i in seq_along(Nearest.CA)) {\n",
    "  Nearest.CA[i] <- as.character(Chi.Map$community[which.min(gDistance(CA.NA[i,], Chi.Map, byid = TRUE))])\n",
    "  print(Nearest.CA[i])\n",
    "}"
   ]
  },
  {
   "cell_type": "markdown",
   "metadata": {},
   "source": [
    "Now that we have a vector of the correct Community Areas to assign each point, we need to replace the NAs in the original CA.Traffic dataframe with these vaues."
   ]
  },
  {
   "cell_type": "code",
   "execution_count": null,
   "metadata": {},
   "outputs": [],
   "source": [
    "#Create counter variable for NA's\n",
    "j = 1\n",
    "\n",
    "#Check if value is NA and replace with nearest CA if it is\n",
    "for(i in 1:nrow(CA.Traffic)) {\n",
    "  if(is.na(CA.Traffic$Community_Area)[i]) {\n",
    "    CA.Traffic$Community_Area[i] = Nearest.CA[j]\n",
    "    j = j + 1\n",
    "  }\n",
    "}"
   ]
  },
  {
   "cell_type": "code",
   "execution_count": null,
   "metadata": {},
   "outputs": [],
   "source": [
    "#Revert CRS to WSG84 for Chicago Map\n",
    "Chi.Map <- spTransform(Chi.Map ,CRS(\"+init=epsg:4326\"))"
   ]
  },
  {
   "cell_type": "markdown",
   "metadata": {},
   "source": [
    "## Aggregate Traffic by Community Area"
   ]
  },
  {
   "cell_type": "markdown",
   "metadata": {},
   "source": [
    "Now that we have determined the Community Area for each traffic point, it is time to calculate the total traffic volume for each Community Area"
   ]
  },
  {
   "cell_type": "code",
   "execution_count": null,
   "metadata": {},
   "outputs": [],
   "source": [
    "#Group Traffic data by Community Area and total up volume for each one\n",
    "CA.Agg <- CA.Traffic %>% \n",
    "  group_by(Community_Area) %>%\n",
    "  summarize(sum(Traffic_Volume))\n",
    "\n",
    "colnames(CA.Agg) <- c(\"community\", \"Traffic_Volume\")\n",
    "\n",
    "nrow(CA.Agg)"
   ]
  },
  {
   "cell_type": "markdown",
   "metadata": {},
   "source": [
    "As stated above, Chicago has 77 Community Areas, but only 76 are in the new dataframe. It appears that the Community Area of Burnside does not show up because no traffic points are located there. We will manually add it in and assign it a volume of 0"
   ]
  },
  {
   "cell_type": "code",
   "execution_count": null,
   "metadata": {},
   "outputs": [],
   "source": [
    "Burnside <- c(\"BURNSIDE\", 0)\n",
    "CA.Agg <- InsertRow(CA.Agg, Burnside, RowNum = 13)"
   ]
  },
  {
   "cell_type": "markdown",
   "metadata": {},
   "source": [
    "Now that we have our Community Area aggregates, we want to add the traffic volume to our Spatial Polygon map of the Communtiy Areas so that it is attached to the geographical information therein contained"
   ]
  },
  {
   "cell_type": "code",
   "execution_count": null,
   "metadata": {},
   "outputs": [],
   "source": [
    "#first convert traffic volume to integer\n",
    "CA.Agg$Traffic_Volume <- as.integer(CA.Agg$Traffic_Volume)\n",
    "\n",
    "#Join the two dataframes\n",
    "Chi.Map@data <- left_join(Chi.Map@data, CA.Agg)"
   ]
  },
  {
   "cell_type": "markdown",
   "metadata": {},
   "source": [
    "In order to make sure that the join had the desired effect, let's create a quick choropleth map of the traffic volume aggregates by Community Area"
   ]
  },
  {
   "cell_type": "code",
   "execution_count": null,
   "metadata": {},
   "outputs": [],
   "source": [
    "tm_shape(Chi.Map) +\n",
    "  tm_fill(\"Traffic_Volume\", style = \"jenks\", n = 7, palette = \"Reds\") + \n",
    "  tm_borders(alpha = 0.5)"
   ]
  },
  {
   "cell_type": "markdown",
   "metadata": {},
   "source": [
    "## Exporting the Data"
   ]
  },
  {
   "cell_type": "markdown",
   "metadata": {},
   "source": [
    "We want to export two shapefiles: \n",
    "1. The traffic volume point data with the additional information of the Community Area of each point\n",
    "2. The Chicago Community Area map with the additional information of the aggregate traffic volume by Community Area\n",
    "\n",
    "First, we must make a spatial dataframe out of CA.Traffic, then we can create the shapefiles "
   ]
  },
  {
   "cell_type": "code",
   "execution_count": null,
   "metadata": {},
   "outputs": [],
   "source": [
    "#Turn CA.Traffic into spatial points data frame\n",
    "coordinates(CA.Traffic) <- CA.Traffic[,c(\"Longitude\", \"Latitude\")]\n",
    "proj4string(CA.Traffic) <- CRS(\"+init=epsg:4326\")\n",
    "CA.Traffic <- spTransform(CA.Traffic,CRS(\"+init=epsg:4326\"))\n",
    "\n",
    "#Create the two shapefiles\n",
    "writeOGR(CA.Traffic,\".\",\"Traffic_Points_with_Community_Areas\",driver=\"ESRI Shapefile\")\n",
    "writeOGR(Chi.Map,\".\",\"Community_Areas_with_Traffic_Volumes\",driver=\"ESRI Shapefile\")"
   ]
  }
 ],
 "metadata": {
  "kernelspec": {
   "display_name": "R",
   "language": "R",
   "name": "ir"
  },
  "language_info": {
   "codemirror_mode": "r",
   "file_extension": ".r",
   "mimetype": "text/x-r-source",
   "name": "R",
   "pygments_lexer": "r",
   "version": "3.4.3"
  }
 },
 "nbformat": 4,
 "nbformat_minor": 2
}

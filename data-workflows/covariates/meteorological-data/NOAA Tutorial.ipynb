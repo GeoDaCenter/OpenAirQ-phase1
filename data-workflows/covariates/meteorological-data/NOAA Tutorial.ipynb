{
 "cells": [
  {
   "cell_type": "markdown",
   "metadata": {},
   "source": [
    "# NOAA Data something something"
   ]
  },
  {
   "cell_type": "markdown",
   "metadata": {},
   "source": [
    "We first need to install load packages and set the working directory. "
   ]
  },
  {
   "cell_type": "code",
   "execution_count": 8,
   "metadata": {},
   "outputs": [],
   "source": [
    "library(tidyr)\n",
    "library(dplyr)\n",
    "library(lubridate)\n",
    "library(ggplot2)\n",
    "library(reshape2)\n",
    "library(data.table)\n",
    "library('RPostgreSQL')\n",
    "setwd(\"~/Desktop/R stuff\")"
   ]
  },
  {
   "cell_type": "markdown",
   "metadata": {},
   "source": [
    "# Reading the Data "
   ]
  },
  {
   "cell_type": "markdown",
   "metadata": {},
   "source": [
    "Now we read the relevant csv data into R and extract the date into a workable format to later group together by month and year. "
   ]
  },
  {
   "cell_type": "code",
   "execution_count": 11,
   "metadata": {
    "collapsed": true
   },
   "outputs": [
    {
     "name": "stderr",
     "output_type": "stream",
     "text": [
      "The following objects are masked from raw_df (pos = 3):\n",
      "\n",
      "    AWND, AWND_ATTRIBUTES, DAPR, DAPR_ATTRIBUTES, DATE, ELEVATION,\n",
      "    LATITUDE, LONGITUDE, MDPR, MDPR_ATTRIBUTES, NAME, PGTM,\n",
      "    PGTM_ATTRIBUTES, PRCP, PRCP_ATTRIBUTES, SNOW, SNOW_ATTRIBUTES,\n",
      "    SNWD, SNWD_ATTRIBUTES, STATION, TAVG, TAVG_ATTRIBUTES, TMAX,\n",
      "    TMAX_ATTRIBUTES, TMIN, TMIN_ATTRIBUTES, TOBS, TOBS_ATTRIBUTES,\n",
      "    WDF2, WDF2_ATTRIBUTES, WDF5, WDF5_ATTRIBUTES, WDMV,\n",
      "    WDMV_ATTRIBUTES, WSF2, WSF2_ATTRIBUTES, WSF5, WSF5_ATTRIBUTES,\n",
      "    credate, month, year\n",
      "\n",
      "The following objects are masked from raw_df (pos = 4):\n",
      "\n",
      "    AWND, AWND_ATTRIBUTES, DAPR, DAPR_ATTRIBUTES, DATE, ELEVATION,\n",
      "    LATITUDE, LONGITUDE, MDPR, MDPR_ATTRIBUTES, NAME, PGTM,\n",
      "    PGTM_ATTRIBUTES, PRCP, PRCP_ATTRIBUTES, SNOW, SNOW_ATTRIBUTES,\n",
      "    SNWD, SNWD_ATTRIBUTES, STATION, TAVG, TAVG_ATTRIBUTES, TMAX,\n",
      "    TMAX_ATTRIBUTES, TMIN, TMIN_ATTRIBUTES, TOBS, TOBS_ATTRIBUTES,\n",
      "    WDF2, WDF2_ATTRIBUTES, WDF5, WDF5_ATTRIBUTES, WDMV,\n",
      "    WDMV_ATTRIBUTES, WSF2, WSF2_ATTRIBUTES, WSF5, WSF5_ATTRIBUTES,\n",
      "    credate, month, year\n",
      "\n"
     ]
    },
    {
     "data": {
      "text/html": [
       "<table>\n",
       "<thead><tr><th scope=col>STATION</th><th scope=col>NAME</th><th scope=col>LATITUDE</th><th scope=col>LONGITUDE</th><th scope=col>ELEVATION</th><th scope=col>DATE</th><th scope=col>AWND</th><th scope=col>AWND_ATTRIBUTES</th><th scope=col>DAPR</th><th scope=col>DAPR_ATTRIBUTES</th><th scope=col>⋯</th><th scope=col>WDF5_ATTRIBUTES</th><th scope=col>WDMV</th><th scope=col>WDMV_ATTRIBUTES</th><th scope=col>WSF2</th><th scope=col>WSF2_ATTRIBUTES</th><th scope=col>WSF5</th><th scope=col>WSF5_ATTRIBUTES</th><th scope=col>credate</th><th scope=col>year</th><th scope=col>month</th></tr></thead>\n",
       "<tbody>\n",
       "\t<tr><td>US1ILCK0148           </td><td>OAK LAWN 1.9 SE, IL US</td><td>41.6936               </td><td>-87.729               </td><td>182.3                 </td><td>2012-05-01            </td><td>NA                    </td><td>                      </td><td>NA                    </td><td>                      </td><td>⋯                     </td><td>                      </td><td>NA                    </td><td>                      </td><td>NA                    </td><td>                      </td><td>NA                    </td><td>                      </td><td>2012-05-01            </td><td>2012                  </td><td>5                     </td></tr>\n",
       "\t<tr><td>US1ILCK0148           </td><td>OAK LAWN 1.9 SE, IL US</td><td>41.6936               </td><td>-87.729               </td><td>182.3                 </td><td>2012-05-02            </td><td>NA                    </td><td>                      </td><td>NA                    </td><td>                      </td><td>⋯                     </td><td>                      </td><td>NA                    </td><td>                      </td><td>NA                    </td><td>                      </td><td>NA                    </td><td>                      </td><td>2012-05-02            </td><td>2012                  </td><td>5                     </td></tr>\n",
       "\t<tr><td>US1ILCK0148           </td><td>OAK LAWN 1.9 SE, IL US</td><td>41.6936               </td><td>-87.729               </td><td>182.3                 </td><td>2012-05-03            </td><td>NA                    </td><td>                      </td><td>NA                    </td><td>                      </td><td>⋯                     </td><td>                      </td><td>NA                    </td><td>                      </td><td>NA                    </td><td>                      </td><td>NA                    </td><td>                      </td><td>2012-05-03            </td><td>2012                  </td><td>5                     </td></tr>\n",
       "\t<tr><td>US1ILCK0148           </td><td>OAK LAWN 1.9 SE, IL US</td><td>41.6936               </td><td>-87.729               </td><td>182.3                 </td><td>2012-05-04            </td><td>NA                    </td><td>                      </td><td>NA                    </td><td>                      </td><td>⋯                     </td><td>                      </td><td>NA                    </td><td>                      </td><td>NA                    </td><td>                      </td><td>NA                    </td><td>                      </td><td>2012-05-04            </td><td>2012                  </td><td>5                     </td></tr>\n",
       "\t<tr><td>US1ILCK0148           </td><td>OAK LAWN 1.9 SE, IL US</td><td>41.6936               </td><td>-87.729               </td><td>182.3                 </td><td>2012-05-05            </td><td>NA                    </td><td>                      </td><td>NA                    </td><td>                      </td><td>⋯                     </td><td>                      </td><td>NA                    </td><td>                      </td><td>NA                    </td><td>                      </td><td>NA                    </td><td>                      </td><td>2012-05-05            </td><td>2012                  </td><td>5                     </td></tr>\n",
       "\t<tr><td>US1ILCK0148           </td><td>OAK LAWN 1.9 SE, IL US</td><td>41.6936               </td><td>-87.729               </td><td>182.3                 </td><td>2012-05-07            </td><td>NA                    </td><td>                      </td><td>NA                    </td><td>                      </td><td>⋯                     </td><td>                      </td><td>NA                    </td><td>                      </td><td>NA                    </td><td>                      </td><td>NA                    </td><td>                      </td><td>2012-05-07            </td><td>2012                  </td><td>5                     </td></tr>\n",
       "</tbody>\n",
       "</table>\n"
      ],
      "text/latex": [
       "\\begin{tabular}{r|lllllllllllllllllllllllllllllllllllllllll}\n",
       " STATION & NAME & LATITUDE & LONGITUDE & ELEVATION & DATE & AWND & AWND\\_ATTRIBUTES & DAPR & DAPR\\_ATTRIBUTES & ⋯ & WDF5\\_ATTRIBUTES & WDMV & WDMV\\_ATTRIBUTES & WSF2 & WSF2\\_ATTRIBUTES & WSF5 & WSF5\\_ATTRIBUTES & credate & year & month\\\\\n",
       "\\hline\n",
       "\t US1ILCK0148            & OAK LAWN 1.9 SE, IL US & 41.6936                & -87.729                & 182.3                  & 2012-05-01             & NA                     &                        & NA                     &                        & ⋯                      &                        & NA                     &                        & NA                     &                        & NA                     &                        & 2012-05-01             & 2012                   & 5                     \\\\\n",
       "\t US1ILCK0148            & OAK LAWN 1.9 SE, IL US & 41.6936                & -87.729                & 182.3                  & 2012-05-02             & NA                     &                        & NA                     &                        & ⋯                      &                        & NA                     &                        & NA                     &                        & NA                     &                        & 2012-05-02             & 2012                   & 5                     \\\\\n",
       "\t US1ILCK0148            & OAK LAWN 1.9 SE, IL US & 41.6936                & -87.729                & 182.3                  & 2012-05-03             & NA                     &                        & NA                     &                        & ⋯                      &                        & NA                     &                        & NA                     &                        & NA                     &                        & 2012-05-03             & 2012                   & 5                     \\\\\n",
       "\t US1ILCK0148            & OAK LAWN 1.9 SE, IL US & 41.6936                & -87.729                & 182.3                  & 2012-05-04             & NA                     &                        & NA                     &                        & ⋯                      &                        & NA                     &                        & NA                     &                        & NA                     &                        & 2012-05-04             & 2012                   & 5                     \\\\\n",
       "\t US1ILCK0148            & OAK LAWN 1.9 SE, IL US & 41.6936                & -87.729                & 182.3                  & 2012-05-05             & NA                     &                        & NA                     &                        & ⋯                      &                        & NA                     &                        & NA                     &                        & NA                     &                        & 2012-05-05             & 2012                   & 5                     \\\\\n",
       "\t US1ILCK0148            & OAK LAWN 1.9 SE, IL US & 41.6936                & -87.729                & 182.3                  & 2012-05-07             & NA                     &                        & NA                     &                        & ⋯                      &                        & NA                     &                        & NA                     &                        & NA                     &                        & 2012-05-07             & 2012                   & 5                     \\\\\n",
       "\\end{tabular}\n"
      ],
      "text/markdown": [
       "\n",
       "STATION | NAME | LATITUDE | LONGITUDE | ELEVATION | DATE | AWND | AWND_ATTRIBUTES | DAPR | DAPR_ATTRIBUTES | ⋯ | WDF5_ATTRIBUTES | WDMV | WDMV_ATTRIBUTES | WSF2 | WSF2_ATTRIBUTES | WSF5 | WSF5_ATTRIBUTES | credate | year | month | \n",
       "|---|---|---|---|---|---|\n",
       "| US1ILCK0148            | OAK LAWN 1.9 SE, IL US | 41.6936                | -87.729                | 182.3                  | 2012-05-01             | NA                     |                        | NA                     |                        | ⋯                      |                        | NA                     |                        | NA                     |                        | NA                     |                        | 2012-05-01             | 2012                   | 5                      | \n",
       "| US1ILCK0148            | OAK LAWN 1.9 SE, IL US | 41.6936                | -87.729                | 182.3                  | 2012-05-02             | NA                     |                        | NA                     |                        | ⋯                      |                        | NA                     |                        | NA                     |                        | NA                     |                        | 2012-05-02             | 2012                   | 5                      | \n",
       "| US1ILCK0148            | OAK LAWN 1.9 SE, IL US | 41.6936                | -87.729                | 182.3                  | 2012-05-03             | NA                     |                        | NA                     |                        | ⋯                      |                        | NA                     |                        | NA                     |                        | NA                     |                        | 2012-05-03             | 2012                   | 5                      | \n",
       "| US1ILCK0148            | OAK LAWN 1.9 SE, IL US | 41.6936                | -87.729                | 182.3                  | 2012-05-04             | NA                     |                        | NA                     |                        | ⋯                      |                        | NA                     |                        | NA                     |                        | NA                     |                        | 2012-05-04             | 2012                   | 5                      | \n",
       "| US1ILCK0148            | OAK LAWN 1.9 SE, IL US | 41.6936                | -87.729                | 182.3                  | 2012-05-05             | NA                     |                        | NA                     |                        | ⋯                      |                        | NA                     |                        | NA                     |                        | NA                     |                        | 2012-05-05             | 2012                   | 5                      | \n",
       "| US1ILCK0148            | OAK LAWN 1.9 SE, IL US | 41.6936                | -87.729                | 182.3                  | 2012-05-07             | NA                     |                        | NA                     |                        | ⋯                      |                        | NA                     |                        | NA                     |                        | NA                     |                        | 2012-05-07             | 2012                   | 5                      | \n",
       "\n",
       "\n"
      ],
      "text/plain": [
       "  STATION     NAME                   LATITUDE LONGITUDE ELEVATION DATE      \n",
       "1 US1ILCK0148 OAK LAWN 1.9 SE, IL US 41.6936  -87.729   182.3     2012-05-01\n",
       "2 US1ILCK0148 OAK LAWN 1.9 SE, IL US 41.6936  -87.729   182.3     2012-05-02\n",
       "3 US1ILCK0148 OAK LAWN 1.9 SE, IL US 41.6936  -87.729   182.3     2012-05-03\n",
       "4 US1ILCK0148 OAK LAWN 1.9 SE, IL US 41.6936  -87.729   182.3     2012-05-04\n",
       "5 US1ILCK0148 OAK LAWN 1.9 SE, IL US 41.6936  -87.729   182.3     2012-05-05\n",
       "6 US1ILCK0148 OAK LAWN 1.9 SE, IL US 41.6936  -87.729   182.3     2012-05-07\n",
       "  AWND AWND_ATTRIBUTES DAPR DAPR_ATTRIBUTES ⋯ WDF5_ATTRIBUTES WDMV\n",
       "1 NA                   NA                   ⋯                 NA  \n",
       "2 NA                   NA                   ⋯                 NA  \n",
       "3 NA                   NA                   ⋯                 NA  \n",
       "4 NA                   NA                   ⋯                 NA  \n",
       "5 NA                   NA                   ⋯                 NA  \n",
       "6 NA                   NA                   ⋯                 NA  \n",
       "  WDMV_ATTRIBUTES WSF2 WSF2_ATTRIBUTES WSF5 WSF5_ATTRIBUTES credate    year\n",
       "1                 NA                   NA                   2012-05-01 2012\n",
       "2                 NA                   NA                   2012-05-02 2012\n",
       "3                 NA                   NA                   2012-05-03 2012\n",
       "4                 NA                   NA                   2012-05-04 2012\n",
       "5                 NA                   NA                   2012-05-05 2012\n",
       "6                 NA                   NA                   2012-05-07 2012\n",
       "  month\n",
       "1 5    \n",
       "2 5    \n",
       "3 5    \n",
       "4 5    \n",
       "5 5    \n",
       "6 5    "
      ]
     },
     "metadata": {},
     "output_type": "display_data"
    }
   ],
   "source": [
    "raw <- read.csv(\"1382179.csv\")\n",
    "\n",
    "#Turn into Readable Date Format\n",
    "raw$credate <- as.Date(raw$DATE)\n",
    "\n",
    "#Turn into more easily searchable format\n",
    "raw$year <- year(raw$credate)\n",
    "raw$month <- month(raw$credate)\n",
    "\n",
    "#Converting to a dataframe\n",
    "raw_df <- tbl_df(raw)\n",
    "attach(raw_df)\n",
    "head(raw)"
   ]
  },
  {
   "cell_type": "markdown",
   "metadata": {},
   "source": [
    "# Grouping the Data"
   ]
  },
  {
   "cell_type": "markdown",
   "metadata": {},
   "source": [
    "This is the most important piece of code, which groups the data by month and then calculates the average for temperature, wind and precipitaation data"
   ]
  },
  {
   "cell_type": "code",
   "execution_count": null,
   "metadata": {},
   "outputs": [],
   "source": [
    "#Group multiple by station, year, month\n",
    "clean_month <- raw_df %>%\n",
    "  group_by(STATION,NAME,year,month) %>%\n",
    "  summarize(\n",
    "    precip_mo=mean(PRCP, na.rm=TRUE),\n",
    "    temp_mo=mean(TAVG, na.rm=TRUE),\n",
    "    temp_min_mo =mean(TMIN, na.rm=TRUE),\n",
    "    temp_max_mo =mean(TMAX, na.rm=TRUE),\n",
    "    wind_mo=mean(as.numeric(AWND), na.rm=TRUE),\n",
    "    snow_mo=mean(SNOW, na.rm=TRUE),\n",
    "    lat=mean(LATITUDE),\n",
    "    long=mean(LONGITUDE),\n",
    "    elevation=mean(ELEVATION)\n",
    "  ) #%>%\n",
    "\n",
    "clean_year <- raw_df %>%\n",
    "  group_by(STATION,NAME,year) %>%\n",
    "  summarize(\n",
    "    precip_yr=mean(PRCP, na.rm=TRUE),\n",
    "    temp_yr=mean(TAVG, na.rm=TRUE),\n",
    "    temp_min_yr =mean(TMIN, na.rm=TRUE),\n",
    "    temp_max_yr =mean(TMAX, na.rm=TRUE),\n",
    "    wind_yr=mean(as.numeric(AWND), na.rm=TRUE),\n",
    "    snow_yr=mean(SNOW, na.rm=TRUE),\n",
    "    lat=mean(LATITUDE),\n",
    "    long=mean(LONGITUDE),\n",
    "    elevation=mean(ELEVATION)\n",
    "  ) #%>%"
   ]
  },
  {
   "cell_type": "markdown",
   "metadata": {},
   "source": [
    "# Reshaping"
   ]
  },
  {
   "cell_type": "markdown",
   "metadata": {},
   "source": [
    "We need to reshape the data from long format to wide format for convenience "
   ]
  },
  {
   "cell_type": "code",
   "execution_count": null,
   "metadata": {},
   "outputs": [],
   "source": [
    "melted_data = melt(clean_year, id=c('STATION','NAME', 'lat', 'long', 'elevation','year'))\n",
    "FinalNOAAYearly = dcast(melted_data,STATION+lat+long+elevation~year+variable)\n",
    "\n",
    "melted_data = melt(clean, id=c('STATION','NAME', 'lat', 'long', 'elevation','year', 'month'))\n",
    "FinalNOAAMonthly = dcast(melted_data,STATION+lat+long+elevation~year+month+variable)\n",
    "\n",
    "latlon = cbind(FinalNOAAYearly[,1],FinalNOAAYearly[,2], FinalNOAAYearly[,3])\n",
    "\n",
    "write.csv(FinalNOAAMonthly, file = \"NOAA_master_monthly_final.csv\")\n",
    "write.csv(latlon, file = \"NOAASensorsLatLon.csv\")\n",
    "write.csv(FinalNOAAYearly, file = \"NOAA_master_yearly.csv\")"
   ]
  },
  {
   "cell_type": "markdown",
   "metadata": {},
   "source": [
    "# Writing to Database"
   ]
  },
  {
   "cell_type": "markdown",
   "metadata": {},
   "source": [
    "Now we write the data to our server "
   ]
  },
  {
   "cell_type": "code",
   "execution_count": null,
   "metadata": {},
   "outputs": [],
   "source": [
    "con =dbConnect(pg,user='shiv', password=PWD,host='la2.rcc.uchicago.edu',dbname='airchicago',port='5432')\n",
    "dbWriteTable(con,'monthly_averages',clean,row.names=FALSE)\n",
    "dbWriteTable(con,'yearly_averages',clean_year, row.names=FALSE)\n",
    "dbWriteTable(con,'raw_data_noaa', raw, row.names=FALSE)"
   ]
  }
 ],
 "metadata": {
  "kernelspec": {
   "display_name": "R",
   "language": "R",
   "name": "ir"
  },
  "language_info": {
   "codemirror_mode": "r",
   "file_extension": ".r",
   "mimetype": "text/x-r-source",
   "name": "R",
   "pygments_lexer": "r",
   "version": "3.5.0"
  }
 },
 "nbformat": 4,
 "nbformat_minor": 2
}
